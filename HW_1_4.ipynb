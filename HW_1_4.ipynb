{
  "nbformat": 4,
  "nbformat_minor": 0,
  "metadata": {
    "colab": {
      "provenance": [],
      "authorship_tag": "ABX9TyMeAfn+oaeW/smTIR1FsYXv",
      "include_colab_link": true
    },
    "kernelspec": {
      "name": "python3",
      "display_name": "Python 3"
    },
    "language_info": {
      "name": "python"
    }
  },
  "cells": [
    {
      "cell_type": "markdown",
      "metadata": {
        "id": "view-in-github",
        "colab_type": "text"
      },
      "source": [
        "<a href=\"https://colab.research.google.com/github/Ang-Li-code/MAT422/blob/main/HW_1_4.ipynb\" target=\"_parent\"><img src=\"https://colab.research.google.com/assets/colab-badge.svg\" alt=\"Open In Colab\"/></a>"
      ]
    },
    {
      "cell_type": "markdown",
      "source": [
        "# Concepts in Linear Algebra, Part 3\n",
        "\n",
        "The following code will provide examples that demonstrate principles observed in the subjects of singular value decomposition, low rank matrix approximations, and principal component analysis.\n",
        "\n",
        "This will be accomplished by showing how these techniques are performed on sample datasets and an additional example of image compression utilizing low rank matrix approximations"
      ],
      "metadata": {
        "id": "PVNamhiNcYG1"
      }
    },
    {
      "cell_type": "markdown",
      "source": [
        "## Singular Value Decomposition\n",
        "\n",
        "We learned that for a given n x m matrix $A$, it can be decomposed into 3 separate matrices, $U$ (m x m), $s$ (m x n), and $V$ (n x n)\n",
        "\n",
        "The following code will generate a random matrix $A$, perform singular value decomposition on it, and show that $U * S * V = A$"
      ],
      "metadata": {
        "id": "MMOP8y1ZdGwG"
      }
    },
    {
      "cell_type": "code",
      "source": [
        "import numpy as np\n",
        "import random\n",
        "\n",
        "def create_sigma(s, n, m):\n",
        "  sigma = np.eye(n, m)\n",
        "\n",
        "  for i in range(min(n, m)):\n",
        "    sigma[i][i] = s[i]\n",
        "\n",
        "  return sigma\n",
        "\n",
        "n = random.randrange(2, 10)\n",
        "m = random.randrange(2, 10)\n",
        "\n",
        "A = np.random.randint(0, 100, size=(n, m))\n",
        "\n",
        "print(\"Matrix A\", A.shape,\":\\n\", A)\n",
        "\n",
        "U, s, V = np.linalg.svd(A, full_matrices=True)\n",
        "\n",
        "sigma = create_sigma(s, n, m)\n",
        "\n",
        "print(\"\\nU:\", U.shape, \"\\n\", U)\n",
        "print(\"s:\", sigma.shape, \"\\n\", sigma)\n",
        "print(\"V:\", V.shape, \"\\n\", V)\n",
        "\n",
        "newA = U.dot(sigma.dot(V))\n",
        "\n",
        "print(\"\\nU * s * V = \\n\", newA)"
      ],
      "metadata": {
        "colab": {
          "base_uri": "https://localhost:8080/"
        },
        "id": "Queo19PwgNxq",
        "outputId": "7e77c8e7-412a-4dc5-8f31-76a3fc5000d7"
      },
      "execution_count": 30,
      "outputs": [
        {
          "output_type": "stream",
          "name": "stdout",
          "text": [
            "Matrix A (8, 5) :\n",
            " [[73 77 47 28 48]\n",
            " [46 63 65 54 95]\n",
            " [ 2 53  4 74 48]\n",
            " [40 93 35 79 20]\n",
            " [99 36 18 82 78]\n",
            " [23 31 80 58 40]\n",
            " [73 69 42 43 40]\n",
            " [55 85  5 49 80]]\n",
            "\n",
            "U: (8, 8) \n",
            " [[-0.35371499  0.06499749  0.28133989  0.47714357  0.17039744  0.23902837\n",
            "  -0.4945308  -0.48281709]\n",
            " [-0.41321683 -0.2120438   0.25917982 -0.32005499  0.49553907 -0.60049157\n",
            "   0.05744443 -0.07232524]\n",
            " [-0.2520548  -0.12832145 -0.63270234 -0.36255596  0.03603327  0.2478975\n",
            "   0.12857391 -0.55584178]\n",
            " [-0.35627236 -0.2879096  -0.47244965  0.41468181 -0.34973449 -0.41535716\n",
            "  -0.20684268  0.23955941]\n",
            " [-0.41494679  0.53560604  0.18734704 -0.40521332 -0.55732354 -0.08236737\n",
            "  -0.15559439  0.00671225]\n",
            " [-0.27889099 -0.65395721  0.2954914  -0.24024955 -0.19607485  0.47646566\n",
            "  -0.06360229  0.28286859]\n",
            " [-0.34687684  0.06213609  0.18422929  0.37916779 -0.13527507  0.07277658\n",
            "   0.8149434  -0.10187444]\n",
            " [-0.37867053  0.36477344 -0.27165832  0.02837414  0.48418893  0.33045458\n",
            "  -0.02089648  0.55215018]]\n",
            "s: (8, 5) \n",
            " [[345.57518558   0.           0.           0.           0.        ]\n",
            " [  0.          79.21458315   0.           0.           0.        ]\n",
            " [  0.           0.          75.98805139   0.           0.        ]\n",
            " [  0.           0.           0.          67.74754598   0.        ]\n",
            " [  0.           0.           0.           0.          54.13803643]\n",
            " [  0.           0.           0.           0.           0.        ]\n",
            " [  0.           0.           0.           0.           0.        ]\n",
            " [  0.           0.           0.           0.           0.        ]]\n",
            "V: (5, 5) \n",
            " [[-0.44339783 -0.51932592 -0.29864399 -0.47077216 -0.47210624]\n",
            " [ 0.57817928 -0.09629926 -0.75188393 -0.19359003  0.23157855]\n",
            " [ 0.47570482 -0.44683277  0.58422361 -0.46268733  0.13655993]\n",
            " [ 0.28885296  0.6268197   0.06256946 -0.40532311 -0.59620405]\n",
            " [-0.39921921  0.35841956 -0.01581651 -0.60210471  0.59108307]]\n",
            "\n",
            "U * s * V = \n",
            " [[73. 77. 47. 28. 48.]\n",
            " [46. 63. 65. 54. 95.]\n",
            " [ 2. 53.  4. 74. 48.]\n",
            " [40. 93. 35. 79. 20.]\n",
            " [99. 36. 18. 82. 78.]\n",
            " [23. 31. 80. 58. 40.]\n",
            " [73. 69. 42. 43. 40.]\n",
            " [55. 85.  5. 49. 80.]]\n"
          ]
        }
      ]
    },
    {
      "cell_type": "markdown",
      "source": [
        "# Low Rank Matrix Approximations\n",
        "\n",
        "We learned that by utilizing singular value decompositions, we can obtain the best $k$ rank approximation, $A_k$, for any given matrix $A$, where $A_K = \\sum_{n = 1}^k \\sigma_ju_jv^T_j$ and $\\sigma_j$, $u_j$, and $v^T_j$ correspond to the singular values of $A$ (values in the diagonals of s in singular value decompositions), and the column vectors of $U$ and $V$, respectively.\n",
        "\n",
        "The"
      ],
      "metadata": {
        "id": "iPOA7EQGj9W0"
      }
    }
  ]
}