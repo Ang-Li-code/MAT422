{
  "nbformat": 4,
  "nbformat_minor": 0,
  "metadata": {
    "colab": {
      "provenance": [],
      "authorship_tag": "ABX9TyNejmLU43OOsNoQIKNZbvj0",
      "include_colab_link": true
    },
    "kernelspec": {
      "name": "python3",
      "display_name": "Python 3"
    },
    "language_info": {
      "name": "python"
    }
  },
  "cells": [
    {
      "cell_type": "markdown",
      "metadata": {
        "id": "view-in-github",
        "colab_type": "text"
      },
      "source": [
        "<a href=\"https://colab.research.google.com/github/Ang-Li-code/MAT422/blob/main/HW_2_2.ipynb\" target=\"_parent\"><img src=\"https://colab.research.google.com/assets/colab-badge.svg\" alt=\"Open In Colab\"/></a>"
      ]
    },
    {
      "cell_type": "markdown",
      "source": [
        "# Concepts in Statistics and Probability, Part 1\n",
        "\n",
        "The follow code will seek to demonstrate the principles found in the concepts of probability axioms, conditional probability, discrete random variables, and continuous random variables.\n",
        "\n",
        "Selected simple examples cases will be shown for each topic, and, when applicable, more complex and randomized cases will be shown as well\n"
      ],
      "metadata": {
        "id": "KsKrpP70VzgL"
      }
    },
    {
      "cell_type": "markdown",
      "source": [
        "## Probability Axioms\n",
        "\n",
        "The following code will showcases examples of sample space, event, and probability of an event for the rolling of 20 sides die."
      ],
      "metadata": {
        "id": "y5xXXV7sYOJh"
      }
    },
    {
      "cell_type": "code",
      "source": [
        "from __future__ import print_function\n",
        "import numpy as np\n",
        "import random\n",
        "\n",
        "S = {1, 2, 3, 4, 5, 6, 7, 8, 9, 10, 11, 12, 13, 14, 15, 16, 17, 18, 19, 20}\n",
        "\n",
        "print(\"Sample Space:\", S)\n",
        "\n",
        "EventA = random.randrange(1, 21)\n",
        "EventB = random.randrange(1, 21)\n",
        "\n",
        "Probability = 1 / len(S)\n",
        "\n",
        "print(\"\\nExample Event A: \", EventA)\n",
        "print(\"Probability of Event A:\", Probability)\n",
        "\n",
        "print(\"Example Event B: \", EventB)\n",
        "print(\"\\nProbability of Event B:\", Probability)\n",
        "\n",
        "print(\"Probability of A or B:\", Probability + Probability)\n"
      ],
      "metadata": {
        "colab": {
          "base_uri": "https://localhost:8080/"
        },
        "id": "hOQ_KaVkYzeT",
        "outputId": "9fffe219-9a4b-4bbb-88bd-2b03fdab59a2"
      },
      "execution_count": 26,
      "outputs": [
        {
          "output_type": "stream",
          "name": "stdout",
          "text": [
            "Sample Space: {1, 2, 3, 4, 5, 6, 7, 8, 9, 10, 11, 12, 13, 14, 15, 16, 17, 18, 19, 20}\n",
            "\n",
            "Example Event A:  3\n",
            "Probability of Event A: 0.05\n",
            "Example Event B:  12\n",
            "\n",
            "Probability of Event B: 0.05\n",
            "Probability of A or B: 0.1\n"
          ]
        }
      ]
    },
    {
      "cell_type": "markdown",
      "source": [
        "## Conditional Probability\n",
        "\n",
        "The following code will showcase examples of the probability of an event given that another event has occurred, as well as indepence and dependence of different events.\n",
        "\n",
        "Note that the probabilities may not add up to 1 due to rounding"
      ],
      "metadata": {
        "id": "PibAAjGwZ1Ei"
      }
    },
    {
      "cell_type": "code",
      "source": [
        "tall_people = random.randrange(0, 100)\n",
        "athlets = random.randrange(0, 100)\n",
        "tall_athlets = random.randrange(0, 100)\n",
        "\n",
        "tall_people = tall_people + tall_athlets\n",
        "athlets = athlets + tall_athlets\n",
        "\n",
        "total_people = tall_people + athlets + tall_athlets\n",
        "\n",
        "print(f'Total people: {total_people}')\n",
        "print(f'Tall people: {tall_people}')\n",
        "print(f'Athlets: {athlets}')\n",
        "print(f'Tall athlets: {tall_athlets}')\n",
        "\n",
        "event_A = tall_people / total_people\n",
        "event_B = athlets / total_people\n",
        "event_A_and_B = tall_athlets / total_people\n",
        "\n",
        "print(\"\\nEvent A - Someone is tall, Probability: \", round(event_A, 3))\n",
        "print(\"Event B - Someone is an athlete, Probability: \", round(event_B, 3))\n",
        "print(\"Event A and B - Someone is tall and an athlete, Probability: \", round(event_A_and_B, 3))\n",
        "\n",
        "event_A_given_B = event_A_and_B / event_B\n",
        "event_B_given_A = event_A_and_B / event_A\n",
        "\n",
        "print(\"\\nEvent A given B - Someone is tall given that they are an athlete, Probability: \", round(event_A_given_B, 3))\n",
        "print(\"Event B given A - Someone is an athlete given that they are tall, Probability: \", round(event_B_given_A, 3))\n",
        "\n",
        "print(\"\\nAre A and B independent?\")\n",
        "\n",
        "if event_A_given_B == event_A:\n",
        "    print(\"Yes\")\n",
        "else:\n",
        "    print(\"No\")"
      ],
      "metadata": {
        "colab": {
          "base_uri": "https://localhost:8080/"
        },
        "id": "3IOen2FgbfSy",
        "outputId": "f74dcdd9-43aa-463f-b603-af0b901c7062"
      },
      "execution_count": 44,
      "outputs": [
        {
          "output_type": "stream",
          "name": "stdout",
          "text": [
            "Total people: 433\n",
            "Tall people: 162\n",
            "Athlets: 177\n",
            "Tall athlets: 94\n",
            "\n",
            "Event A - Someone is tall, Probability:  0.374\n",
            "Event B - Someone is an athlete, Probability:  0.409\n",
            "Event A and B - Someone is tall and an athlete, Probability:  0.217\n",
            "\n",
            "Event A given B - Someone is tall given that they are an athlete, Probability:  0.531\n",
            "Event B given A - Someone is an athlete given that they are tall, Probability:  0.58\n",
            "\n",
            "Are A and B independent?\n",
            "No\n"
          ]
        }
      ]
    },
    {
      "cell_type": "markdown",
      "source": [
        "## Discrete Random Variables\n",
        "\n",
        "The following code will once again utilize the simulation of a fair die to showcase the concept of discrete random variables"
      ],
      "metadata": {
        "id": "H59hZFS6ka2K"
      }
    },
    {
      "cell_type": "markdown",
      "source": [],
      "metadata": {
        "id": "VO925QP6kfPs"
      }
    }
  ]
}