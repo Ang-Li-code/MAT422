{
  "nbformat": 4,
  "nbformat_minor": 0,
  "metadata": {
    "colab": {
      "provenance": [],
      "authorship_tag": "ABX9TyMVFrELDbj80uaKsEWstN48",
      "include_colab_link": true
    },
    "kernelspec": {
      "name": "python3",
      "display_name": "Python 3"
    },
    "language_info": {
      "name": "python"
    }
  },
  "cells": [
    {
      "cell_type": "markdown",
      "metadata": {
        "id": "view-in-github",
        "colab_type": "text"
      },
      "source": [
        "<a href=\"https://colab.research.google.com/github/Ang-Li-code/MAT422/blob/main/HW_2_2.ipynb\" target=\"_parent\"><img src=\"https://colab.research.google.com/assets/colab-badge.svg\" alt=\"Open In Colab\"/></a>"
      ]
    },
    {
      "cell_type": "markdown",
      "source": [
        "# Concepts in Statistics and Probability, Part 1\n",
        "\n",
        "The follow code will seek to demonstrate the principles found in the concepts of probability axioms, conditional probability, discrete random variables, and continuous random variables.\n",
        "\n",
        "Selected simple examples cases will be shown for each topic, and, when applicable, more complex and randomized cases will be shown as well\n"
      ],
      "metadata": {
        "id": "KsKrpP70VzgL"
      }
    },
    {
      "cell_type": "markdown",
      "source": [
        "## Probability Axioms\n",
        "\n",
        "The following code will showcases examples of sample space, event, and probability of an event for the rolling of 20 sides die."
      ],
      "metadata": {
        "id": "y5xXXV7sYOJh"
      }
    },
    {
      "cell_type": "code",
      "source": [
        "import matplotlib.pyplot as plt\n",
        "import numpy as np\n",
        "import random\n",
        "\n",
        "S = {1, 2, 3, 4, 5, 6, 7, 8, 9, 10, 11, 12, 13, 14, 15, 16, 17, 18, 19, 20}\n",
        "\n",
        "print(\"Sample Space:\", S)\n",
        "\n",
        "EventA = random.randrange(1, 21)\n",
        "EventB = random.randrange(1, 21)\n",
        "\n",
        "Probability = 1 / len(S)\n",
        "\n",
        "print(\"\\nExample Event A: \", EventA)\n",
        "print(\"Probability of Event A:\", Probability)\n",
        "\n",
        "print(\"Example Event B: \", EventB)\n",
        "print(\"\\nProbability of Event B:\", Probability)\n",
        "\n",
        "print(\"Probability of A or B:\", Probability + Probability)\n"
      ],
      "metadata": {
        "colab": {
          "base_uri": "https://localhost:8080/"
        },
        "id": "hOQ_KaVkYzeT",
        "outputId": "9fffe219-9a4b-4bbb-88bd-2b03fdab59a2"
      },
      "execution_count": 26,
      "outputs": [
        {
          "output_type": "stream",
          "name": "stdout",
          "text": [
            "Sample Space: {1, 2, 3, 4, 5, 6, 7, 8, 9, 10, 11, 12, 13, 14, 15, 16, 17, 18, 19, 20}\n",
            "\n",
            "Example Event A:  3\n",
            "Probability of Event A: 0.05\n",
            "Example Event B:  12\n",
            "\n",
            "Probability of Event B: 0.05\n",
            "Probability of A or B: 0.1\n"
          ]
        }
      ]
    },
    {
      "cell_type": "markdown",
      "source": [
        "## Conditional Probability\n",
        "\n",
        "The following code will showcase examples of the probability of an event given that another event has occurred, as well as indepence and dependence of different events.\n",
        "\n",
        "Note that the probabilities may not add up to 1 due to rounding"
      ],
      "metadata": {
        "id": "PibAAjGwZ1Ei"
      }
    },
    {
      "cell_type": "code",
      "source": [
        "tall_people = random.randrange(0, 100)\n",
        "athlets = random.randrange(0, 100)\n",
        "tall_athlets = random.randrange(0, 100)\n",
        "\n",
        "tall_people = tall_people + tall_athlets\n",
        "athlets = athlets + tall_athlets\n",
        "\n",
        "total_people = tall_people + athlets + tall_athlets\n",
        "\n",
        "print(f'Total people: {total_people}')\n",
        "print(f'Tall people: {tall_people}')\n",
        "print(f'Athlets: {athlets}')\n",
        "print(f'Tall athlets: {tall_athlets}')\n",
        "\n",
        "event_A = tall_people / total_people\n",
        "event_B = athlets / total_people\n",
        "event_A_and_B = tall_athlets / total_people\n",
        "\n",
        "print(\"\\nEvent A - Someone is tall, Probability: \", round(event_A, 3))\n",
        "print(\"Event B - Someone is an athlete, Probability: \", round(event_B, 3))\n",
        "print(\"Event A and B - Someone is tall and an athlete, Probability: \", round(event_A_and_B, 3))\n",
        "\n",
        "event_A_given_B = event_A_and_B / event_B\n",
        "event_B_given_A = event_A_and_B / event_A\n",
        "\n",
        "print(\"\\nEvent A given B - Someone is tall given that they are an athlete, Probability: \", round(event_A_given_B, 3))\n",
        "print(\"Event B given A - Someone is an athlete given that they are tall, Probability: \", round(event_B_given_A, 3))\n",
        "\n",
        "print(\"\\nAre A and B independent?\")\n",
        "\n",
        "if event_A_given_B == event_A:\n",
        "    print(\"Yes\")\n",
        "else:\n",
        "    print(\"No\")"
      ],
      "metadata": {
        "colab": {
          "base_uri": "https://localhost:8080/"
        },
        "id": "3IOen2FgbfSy",
        "outputId": "f74dcdd9-43aa-463f-b603-af0b901c7062"
      },
      "execution_count": 44,
      "outputs": [
        {
          "output_type": "stream",
          "name": "stdout",
          "text": [
            "Total people: 433\n",
            "Tall people: 162\n",
            "Athlets: 177\n",
            "Tall athlets: 94\n",
            "\n",
            "Event A - Someone is tall, Probability:  0.374\n",
            "Event B - Someone is an athlete, Probability:  0.409\n",
            "Event A and B - Someone is tall and an athlete, Probability:  0.217\n",
            "\n",
            "Event A given B - Someone is tall given that they are an athlete, Probability:  0.531\n",
            "Event B given A - Someone is an athlete given that they are tall, Probability:  0.58\n",
            "\n",
            "Are A and B independent?\n",
            "No\n"
          ]
        }
      ]
    },
    {
      "cell_type": "markdown",
      "source": [
        "## Discrete Random Variables\n",
        "\n",
        "The following code will once again utilize the simulation of a fair die to showcase the concept of discrete random variables.\n",
        "\n",
        "Note that the values may be slightly off due to rounding."
      ],
      "metadata": {
        "id": "H59hZFS6ka2K"
      }
    },
    {
      "cell_type": "code",
      "source": [
        "def roll_dice(sides):\n",
        "  return random.randint(1, sides)\n",
        "\n",
        "Rolls_count = {\n",
        "    1:0,\n",
        "    2:0,\n",
        "    3:0,\n",
        "    4:0,\n",
        "    5:0,\n",
        "    6:0\n",
        "}\n",
        "\n",
        "for i in range(100000):\n",
        "  roll = roll_dice(6)\n",
        "  Rolls_count[roll] += 1\n",
        "\n",
        "print(Rolls_count)\n",
        "\n",
        "plt.bar(Rolls_count.keys(), Rolls_count.values())\n",
        "plt.show()\n",
        "\n",
        "total = sum(Rolls_count.values())\n",
        "print(\"\\nProbability of rolling a 1 based on simulation: \", Rolls_count[1]/total)\n",
        "print(\"Probability of rolling a 2 based on simulation: \", Rolls_count[2]/total)\n",
        "print(\"Probability of rolling a 3 based on simulation: \", Rolls_count[3]/total)\n",
        "print(\"Probability of rolling a 4 based on simulation: \", Rolls_count[4]/total)\n",
        "print(\"Probability of rolling a 5 based on simulation: \", Rolls_count[5]/total)\n",
        "print(\"Probability of rolling a 6 based on simulation: \", Rolls_count[6]/total)\n",
        "\n",
        "print(\"\\nActual Probabilities:\")\n",
        "print(\"1: \", 1/6)\n",
        "print(\"2: \", 1/6)\n",
        "print(\"3: \", 1/6)\n",
        "print(\"4: \", 1/6)\n",
        "print(\"5: \", 1/6)\n",
        "print(\"6: \", 1/6)"
      ],
      "metadata": {
        "colab": {
          "base_uri": "https://localhost:8080/",
          "height": 716
        },
        "id": "xd9G298Gkvn3",
        "outputId": "1deeee9f-3bd4-4a04-ff17-22fa9f974b6b"
      },
      "execution_count": 67,
      "outputs": [
        {
          "output_type": "stream",
          "name": "stdout",
          "text": [
            "{1: 16824, 2: 16543, 3: 16618, 4: 16875, 5: 16399, 6: 16741}\n"
          ]
        },
        {
          "output_type": "display_data",
          "data": {
            "text/plain": [
              "<Figure size 640x480 with 1 Axes>"
            ],
            "image/png": "[encoded data removed]"
          },
          "metadata": {}
        },
        {
          "output_type": "stream",
          "name": "stdout",
          "text": [
            "\n",
            "Probability of rolling a 1 based on simulation:  0.16824\n",
            "Probability of rolling a 2 based on simulation:  0.16543\n",
            "Probability of rolling a 3 based on simulation:  0.16618\n",
            "Probability of rolling a 4 based on simulation:  0.16875\n",
            "Probability of rolling a 5 based on simulation:  0.16399\n",
            "Probability of rolling a 6 based on simulation:  0.16741\n",
            "\n",
            "Actual Probabilities:\n",
            "1:  0.16666666666666666\n",
            "2:  0.16666666666666666\n",
            "3:  0.16666666666666666\n",
            "4:  0.16666666666666666\n",
            "5:  0.16666666666666666\n",
            "6:  0.16666666666666666\n"
          ]
        }
      ]
    },
    {
      "cell_type": "markdown",
      "source": [
        "In continuation to the example shown above, the following code will calculate the expected value, variance, and standard deviation for the simulation of the fair die"
      ],
      "metadata": {
        "id": "jmulwJshmU2t"
      }
    },
    {
      "cell_type": "code",
      "source": [
        "expected_value = 0\n",
        "\n",
        "for i in range(1, 7):\n",
        "  probability = Rolls_count[i] / total\n",
        "  expected_value += i * probability\n",
        "\n",
        "print(\"Expected Value: \", round(expected_value, 3))\n",
        "\n",
        "variance = 0\n",
        "\n",
        "for i in range(1, 7):\n",
        "  probability = Rolls_count[i] / total\n",
        "  variance += (i - expected_value) ** 2 * probability\n",
        "\n",
        "print(\"Variance: \", round(variance, 3))\n",
        "\n",
        "print(\"Standard Deviation: \", round(variance ** 0.5, 3))"
      ],
      "metadata": {
        "colab": {
          "base_uri": "https://localhost:8080/"
        },
        "id": "_CkPnV9Fmg3m",
        "outputId": "d90ec68f-c878-4f6e-e675-e89f1d28b3ec"
      },
      "execution_count": 72,
      "outputs": [
        {
          "output_type": "stream",
          "name": "stdout",
          "text": [
            "Expected Value:  3.497\n",
            "Variance:  2.923\n",
            "Standard Deviation:  1.71\n"
          ]
        }
      ]
    },
    {
      "cell_type": "markdown",
      "source": [
        "# Continuous Random Variables\n",
        "\n",
        "The following code will create a continuous function, display the function, and calculate a pdf, the expected value, variance, and standard deviation for the function.\n",
        "\n",
        "Note that the values may be slightly off due to rounding."
      ],
      "metadata": {
        "id": "KmXQM8-ZnGI7"
      }
    },
    {
      "cell_type": "code",
      "source": [
        "from scipy.integrate import quad\n",
        "from numpy import inf, exp\n",
        "import math\n",
        "\n",
        "lam = 2;\n",
        "\n",
        "x = np.linspace(0, 10, 1000)\n",
        "y = lam * math.e ** (-lam * x)\n",
        "\n",
        "plt.plot(x, y)\n",
        "plt.show()\n",
        "\n",
        "\n",
        "def integrand(x):\n",
        "  return lam * math.e ** (-lam * x)\n",
        "\n",
        "PDF, error = quad(integrand, 0, inf)\n",
        "\n",
        "print(\"\\nPDF from 0 to infinity: \", PDF)\n",
        "\n",
        "PDF, error = quad(integrand, 0, 1)\n",
        "\n",
        "print(\"PDF from 0 to 1: \", PDF)\n",
        "\n",
        "def expected_value(x):\n",
        "  return x * lam * math.e ** (-lam * x)\n",
        "\n",
        "EV, error = quad(expected_value, 0, inf)\n",
        "\n",
        "print(\"\\nExpected Value: \", EV)\n",
        "\n",
        "def variance(x):\n",
        "  return (x - EV) ** 2 * lam * math.e ** (-lam * x)\n",
        "\n",
        "VAR, error = quad(variance, 0, inf)\n",
        "\n",
        "print(\"Variance: \", VAR)\n",
        "\n",
        "print(\"Standard Deviation: \", VAR ** 0.5)"
      ],
      "metadata": {
        "colab": {
          "base_uri": "https://localhost:8080/",
          "height": 555
        },
        "id": "886HpS3OoLjs",
        "outputId": "e07b0ddb-8d13-4a82-8c23-d5de694dc5b0"
      },
      "execution_count": 114,
      "outputs": [
        {
          "output_type": "display_data",
          "data": {
            "text/plain": [
              "<Figure size 640x480 with 1 Axes>"
            ],
            "image/png": "[encoded data removed]"
          },
          "metadata": {}
        },
        {
          "output_type": "stream",
          "name": "stdout",
          "text": [
            "\n",
            "PDF from 0 to infinity:  1.0\n",
            "PDF from 0 to 1:  0.8646647167633872\n",
            "\n",
            "Expected Value:  0.4999999999999997\n",
            "Variance:  0.2500000000000001\n",
            "Standard Deviation:  0.5000000000000001\n"
          ]
        }
      ]
    }
  ]
}