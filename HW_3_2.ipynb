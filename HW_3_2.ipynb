{
  "nbformat": 4,
  "nbformat_minor": 0,
  "metadata": {
    "colab": {
      "provenance": [],
      "authorship_tag": "ABX9TyNq4oFMQ1NlsYofn3cg5rKS",
      "include_colab_link": true
    },
    "kernelspec": {
      "name": "python3",
      "display_name": "Python 3"
    },
    "language_info": {
      "name": "python"
    }
  },
  "cells": [
    {
      "cell_type": "markdown",
      "metadata": {
        "id": "view-in-github",
        "colab_type": "text"
      },
      "source": [
        "<a href=\"https://colab.research.google.com/github/Ang-Li-code/MAT422/blob/main/HW_3_2.ipynb\" target=\"_parent\"><img src=\"https://colab.research.google.com/assets/colab-badge.svg\" alt=\"Open In Colab\"/></a>"
      ]
    },
    {
      "cell_type": "code",
      "source": [
        "# Set up code\n",
        "import sympy as sp\n",
        "import numpy as np\n",
        "import matplotlib.pyplot as plt"
      ],
      "metadata": {
        "id": "97d_7_FCn0rx"
      },
      "execution_count": 2,
      "outputs": []
    },
    {
      "cell_type": "markdown",
      "source": [
        "# Concepts in Calculus, Part 1\n",
        "\n",
        "The following code will provide examples that demonstrate a few selected principles in the following concepts:\n",
        "- Limits and continuity\n",
        "- Derivatives\n",
        "- Taylor’s theorem"
      ],
      "metadata": {
        "id": "VXnu3GZWk7Zb"
      }
    },
    {
      "cell_type": "markdown",
      "source": [
        "## Limits and Continuity\n",
        "\n",
        "Limits of a function:\n",
        "\n",
        "Let $f : D → \\mathbb{R}$ be a real-valued function on $D ⊆ \\mathbb{R}^d$. Then f is said to have a limit L ∈ R as $\\textbf{x}$ approaches $\\textbf{a}$ if: for any ε > 0, there exists a δ > 0 such that $|f (x) − L| < ε$ for all\n",
        "$\\textbf{x} ∈ D ∩ B_δ (a) \\setminus \\{a\\}$. This is written as:\n",
        "\n",
        "$$\n",
        "\\lim _{\\mathbf{x} \\rightarrow \\mathbf{a}} f(\\mathbf{x})=L\n",
        "$$\n",
        "\n",
        "The following code will present a few sample functions and how to derive their limits as a specific point using python."
      ],
      "metadata": {
        "id": "gLwXynWVlPOT"
      }
    },
    {
      "cell_type": "code",
      "source": [
        "# Set up code\n",
        "\n",
        "def limit(f, x, a):\n",
        "    print(\"The limit of:\")\n",
        "    sp.pprint(f)\n",
        "    print(\"as\", x, \"approaches\", a, \"is:\")\n",
        "    sp.pprint(sp.limit(f, x, a))"
      ],
      "metadata": {
        "id": "Kb7mKt5noVHs"
      },
      "execution_count": 26,
      "outputs": []
    },
    {
      "cell_type": "markdown",
      "source": [
        "$\\lim_{x \\rightarrow a} \\frac{1}{x} $"
      ],
      "metadata": {
        "id": "85TwkOJMp4J4"
      }
    },
    {
      "cell_type": "code",
      "source": [
        "x = sp.symbols(\"x\")\n",
        "f = 1/x\n",
        "print(\"a = 0\")\n",
        "limit(f, x, 0)\n",
        "\n",
        "print(\"\\na = 1\")\n",
        "limit(f, x, 1)\n",
        "\n",
        "print(\"\\na = -1\")\n",
        "limit(f, x, -1)"
      ],
      "metadata": {
        "colab": {
          "base_uri": "https://localhost:8080/"
        },
        "id": "6Dpy5LGmp16g",
        "outputId": "ff855059-578b-4ef1-b021-5bf2c8a23040"
      },
      "execution_count": 31,
      "outputs": [
        {
          "output_type": "stream",
          "name": "stdout",
          "text": [
            "a = 0\n",
            "The limit of:\n",
            "1\n",
            "─\n",
            "x\n",
            "as x approaches 0 is:\n",
            "∞\n",
            "\n",
            "a = 1\n",
            "The limit of:\n",
            "1\n",
            "─\n",
            "x\n",
            "as x approaches 1 is:\n",
            "1\n",
            "\n",
            "a = -1\n",
            "The limit of:\n",
            "1\n",
            "─\n",
            "x\n",
            "as x approaches -1 is:\n",
            "-1\n"
          ]
        }
      ]
    },
    {
      "cell_type": "markdown",
      "source": [
        "$\\lim_{x \\rightarrow a} cos(x) $"
      ],
      "metadata": {
        "id": "DtWsVCgyrXkw"
      }
    },
    {
      "cell_type": "code",
      "source": [
        "x = sp.symbols(\"x\")\n",
        "f = sp.cos(x)\n",
        "print(\"a = 0\")\n",
        "limit(f, x, 0)\n",
        "\n",
        "print(\"\\na = 0.2\")\n",
        "limit(f, x, 0.2)\n",
        "\n",
        "print(\"\\na = -0.2\")\n",
        "limit(f, x, -0.2)"
      ],
      "metadata": {
        "colab": {
          "base_uri": "https://localhost:8080/"
        },
        "id": "xzAf76PrreI5",
        "outputId": "0a9d1063-07c9-433d-927a-610d224b53eb"
      },
      "execution_count": 33,
      "outputs": [
        {
          "output_type": "stream",
          "name": "stdout",
          "text": [
            "a = 0\n",
            "The limit of:\n",
            "cos(x)\n",
            "as x approaches 0 is:\n",
            "1\n",
            "\n",
            "a = 0.2\n",
            "The limit of:\n",
            "cos(x)\n",
            "as x approaches 0.2 is:\n",
            "0.980066577841242\n",
            "\n",
            "a = -0.2\n",
            "The limit of:\n",
            "cos(x)\n",
            "as x approaches -0.2 is:\n",
            "0.980066577841242\n"
          ]
        }
      ]
    },
    {
      "cell_type": "markdown",
      "source": [
        "## Derivatives"
      ],
      "metadata": {
        "id": "OTlwN0SZr2IU"
      }
    },
    {
      "cell_type": "markdown",
      "source": [
        "### Single Variable Derivatives\n",
        "\n",
        "Let $f : D \\to \\mathbb{R}$ where $D \\subseteq \\mathbb{R}$ and let $x_0 \\in D$\n",
        "be an interior point of $D$. The derivative of $f$ at $x_0$ is\n",
        "$$\n",
        "f'(x_0) = \\frac{df(x_0)}{dx} = \\lim_{h \\to 0} \\frac{f(x_0 + h) - f(x_0)}{h}\n",
        "$$\n",
        "\n",
        "The following code demonstrates a few of the known derivation rules for single variable calculus.\n",
        "\n",
        "(For sake of space the functions are not printed in the most elegant way)"
      ],
      "metadata": {
        "id": "LJVhfxj0wjaN"
      }
    },
    {
      "cell_type": "code",
      "source": [
        "# Define symbols\n",
        "x = sp.symbols('x')\n",
        "\n",
        "# 1. Constant Rule: d/dx(c) = 0\n",
        "constant = 5\n",
        "constant_derivative = sp.diff(constant, x)\n",
        "print(f\"1. Constant Rule: d/dx({constant}) = {constant_derivative}\")\n",
        "\n",
        "# 2. Power Rule: d/dx(x^n) = n*x^(n-1)\n",
        "power_expr = x**4\n",
        "power_derivative = sp.diff(power_expr, x)\n",
        "print(f\"2. Power Rule: d/dx({power_expr}) = {power_derivative}\")\n",
        "\n",
        "# 3. Sum/Difference Rule: d/dx(f + g) = d/dx(f) + d/dx(g)\n",
        "sum_expr = x**3 + 2*x**2 - 5\n",
        "sum_derivative = sp.diff(sum_expr, x)\n",
        "print(f\"3. Sum/Difference Rule: d/dx({sum_expr}) = {sum_derivative}\")\n",
        "\n",
        "# 4. Product Rule: d/dx(f * g) = f' * g + f * g'\n",
        "f = x**2\n",
        "g = sp.sin(x)\n",
        "product_expr = f * g\n",
        "product_derivative = sp.diff(product_expr, x)\n",
        "print(f\"4. Product Rule: d/dx({f} * {g}) = {product_derivative}\")\n",
        "\n",
        "# 5. Quotient Rule: d/dx(f / g) = (f' * g - f * g') / g^2\n",
        "quotient_expr = (x**2 + 1) / (x - 1)\n",
        "quotient_derivative = sp.diff(quotient_expr, x)\n",
        "print(f\"5. Quotient Rule: d/dx({quotient_expr}) = {quotient_derivative}\")\n",
        "\n",
        "# 6. Chain Rule: d/dx(f(g(x))) = f'(g(x)) * g'(x)\n",
        "chain_expr = sp.sin(x**2)\n",
        "chain_derivative = sp.diff(chain_expr, x)\n",
        "print(f\"6. Chain Rule: d/dx(sin(x^2)) = {chain_derivative}\")\n"
      ],
      "metadata": {
        "colab": {
          "base_uri": "https://localhost:8080/"
        },
        "id": "8x7Mk97zw8Px",
        "outputId": "0d2355b6-b73b-4678-ab4e-6cc44e7cb1dc"
      },
      "execution_count": 34,
      "outputs": [
        {
          "output_type": "stream",
          "name": "stdout",
          "text": [
            "1. Constant Rule: d/dx(5) = 0\n",
            "2. Power Rule: d/dx(x**4) = 4*x**3\n",
            "3. Sum/Difference Rule: d/dx(x**3 + 2*x**2 - 5) = 3*x**2 + 4*x\n",
            "4. Product Rule: d/dx(x**2 * sin(x)) = x**2*cos(x) + 2*x*sin(x)\n",
            "5. Quotient Rule: d/dx((x**2 + 1)/(x - 1)) = 2*x/(x - 1) - (x**2 + 1)/(x - 1)**2\n",
            "6. Chain Rule: d/dx(sin(x^2)) = 2*x*cos(x**2)\n"
          ]
        }
      ]
    },
    {
      "cell_type": "markdown",
      "source": [
        "### Partial Derivatives and Jacobian\n",
        "\n",
        "**Partial Derivative:**\n",
        "\n",
        "Let $f : D \\to \\mathbb{R}$ where $D \\subseteq \\mathbb{R}^d$ and\n",
        "let $x_0 \\in D$ be an interior point of $D$. The partial derivative of $f$ at $x_0$ with\n",
        "respect to $x_i$ is\n",
        "\n",
        "$$\n",
        "\\frac{\\partial f(x_0)}{\\partial x_i} = \\lim_{h \\to 0} \\frac{f(x_0 + h e_i) - f(x_0)}{h}\n",
        "$$\n",
        "\n",
        "**Jacobian:**\n",
        "\n",
        "Let $f = (f_1, \\dots, f_m) : D \\to \\mathbb{R}^m$ where $D \\subseteq \\mathbb{R}^d$\n",
        "and let $x_0 \\in D$ be an interior point of $D$ where $\\frac{\\partial f_j(x_0)}{\\partial x_i}$ exists for all $i, j$. The\n",
        "Jacobian of $f$ at $x_0$ is the $d \\times m$ matrix\n",
        "\n",
        "$$\n",
        "J_f(x_0) =\n",
        "\\begin{pmatrix}\n",
        "\\frac{\\partial f_1(x_0)}{\\partial x_1} & \\dots & \\frac{\\partial f_1(x_0)}{\\partial x_d} \\\\\n",
        "\\vdots & \\ddots & \\vdots \\\\\n",
        "\\frac{\\partial f_m(x_0)}{\\partial x_1} & \\dots & \\frac{\\partial f_m(x_0)}{\\partial x_d}\n",
        "\\end{pmatrix}.\n",
        "$$\n",
        "\n",
        "For a real-valued function $f : D \\to \\mathbb{R}$, the Jacobian reduces to the row\n",
        "vector\n",
        "\n",
        "$$\n",
        "J_f(x_0) = \\nabla f(x_0)^T\n",
        "$$\n"
      ],
      "metadata": {
        "id": "shFKYrswxVwq"
      }
    },
    {
      "cell_type": "markdown",
      "source": [
        "The following code will calculate the partial derivatives for the function:\n",
        "\n",
        "$f(x_1, x_2, x_3) = x_1^2 + x_2^2 + x_1x_3$\n",
        "\n",
        "As well as the Jacobian matrix for the function\n",
        "\n",
        "$\\mathbf{f}(x_1, x_2) = \\begin{pmatrix} f_1 \\\\ f_2 \\end{pmatrix}$\n",
        "\n",
        "where $ f_1 = x_1^2 + x_2, \\quad f_2 = \\sin(x_1) + \\cos(x_2) $\n",
        "\n",
        "<br>\n",
        "\n",
        "The partial derivatives of \\( f \\) should have the results\n",
        "\n",
        "$\\frac{\\partial f}{\\partial x_1} = 2x_1 + x_3$\n",
        "\n",
        "$\\frac{\\partial f}{\\partial x_2} = 2x_2$\n",
        "\n",
        "$\\frac{\\partial f}{\\partial x_3} = x_1$\n",
        "\n",
        "<br>\n",
        "\n",
        "And the Jacobian matrix should have the result\n",
        "\n",
        "$$\n",
        "J_f(x_1, x_2) =\n",
        "\\begin{pmatrix}\n",
        "\\frac{\\partial f_1}{\\partial x_1} & \\frac{\\partial f_1}{\\partial x_2} \\\\\n",
        "\\frac{\\partial f_2}{\\partial x_1} & \\frac{\\partial f_2}{\\partial x_2}\n",
        "\\end{pmatrix}\n",
        "=\n",
        "\\begin{pmatrix}\n",
        "2x_1 & 1 \\\\\n",
        "\\cos(x_1) & -\\sin(x_2)\n",
        "\\end{pmatrix}\n",
        "$$\n"
      ],
      "metadata": {
        "id": "CZ7bf0evy1Ws"
      }
    },
    {
      "cell_type": "code",
      "source": [
        "# Define symbols (for a 3D example: x1, x2, x3)\n",
        "x1, x2, x3 = sp.symbols('x1 x2 x3')\n",
        "\n",
        "# Example 1: Partial derivatives of a scalar-valued function\n",
        "# Function: f(x1, x2, x3) = x1^2 + x2^2 + x1*x3\n",
        "f = x1**2 + x2**2 + x1*x3\n",
        "\n",
        "# Compute partial derivatives with respect to each variable\n",
        "partial_x1 = sp.diff(f, x1)\n",
        "partial_x2 = sp.diff(f, x2)\n",
        "partial_x3 = sp.diff(f, x3)\n",
        "\n",
        "# Print the partial derivatives\n",
        "print(f\"Partial derivative of f with respect to x1: {partial_x1}\")\n",
        "print(f\"Partial derivative of f with respect to x2: {partial_x2}\")\n",
        "print(f\"Partial derivative of f with respect to x3: {partial_x3}\")\n",
        "print()\n",
        "\n",
        "# Example 2: Jacobian of a vector-valued function\n",
        "# Vector-valued function: f(x1, x2) = (f1, f2)\n",
        "# f1 = x1^2 + x2, f2 = sin(x1) + cos(x2)\n",
        "f1 = x1**2 + x2\n",
        "f2 = sp.sin(x1) + sp.cos(x2)\n",
        "\n",
        "# Create a vector of functions\n",
        "F = sp.Matrix([f1, f2])\n",
        "\n",
        "# Compute the Jacobian matrix\n",
        "J = F.jacobian([x1, x2])\n",
        "\n",
        "# Print the Jacobian matrix\n",
        "print(f\"Jacobian matrix of F with respect to x1 and x2:\\n{J}\")\n"
      ],
      "metadata": {
        "colab": {
          "base_uri": "https://localhost:8080/"
        },
        "id": "9xn9EJ_LyYWc",
        "outputId": "b7792025-a28e-413b-abbe-62387c9d31fa"
      },
      "execution_count": 36,
      "outputs": [
        {
          "output_type": "stream",
          "name": "stdout",
          "text": [
            "Partial derivative of f with respect to x1: 2*x1 + x3\n",
            "Partial derivative of f with respect to x2: 2*x2\n",
            "Partial derivative of f with respect to x3: x1\n",
            "\n",
            "Jacobian matrix of F with respect to x1 and x2:\n",
            "Matrix([[2*x1, 1], [cos(x1), -sin(x2)]])\n"
          ]
        }
      ]
    },
    {
      "cell_type": "markdown",
      "source": [
        "## Taylor's Theorem\n",
        "\n",
        "Let $f : D \\to \\mathbb{R}$ where $D \\subseteq \\mathbb{R}$. Suppose $f$ has $m$ times continuous derivatives on $[a, b]$. Then\n",
        "\n",
        "$$\n",
        "f(b) = f(a) + (b - a)f'(a) + \\frac{1}{2}(b - a)^2 f''(a) + \\cdots + \\frac{(b - a)^{m-1}}{(m - 1)!} f^{(m-1)}(a) + R_m,\n",
        "$$\n",
        "\n",
        "The following code will show the application of Taylor's theorem on $f(x) = e^{x}$ with $m = 2$ and $a = 0$"
      ],
      "metadata": {
        "id": "Vxoh-FQJ2y4e"
      }
    },
    {
      "cell_type": "code",
      "source": [
        "# Define the variable and function\n",
        "x = sp.symbols('x')\n",
        "f = sp.exp(x)\n",
        "\n",
        "# Calculate the Taylor polynomial of degree 2 around a = 0\n",
        "a = 0\n",
        "n = 2\n",
        "P_n = f.series(x, a, n + 1).removeO()  # Removes the big-O notation\n",
        "\n",
        "# Print the Taylor polynomial\n",
        "print(f\"Taylor Polynomial P_2(x): {P_n}\")\n",
        "\n",
        "# Create a function for plotting\n",
        "f_func = sp.lambdify(x, f, 'numpy')\n",
        "P_n_func = sp.lambdify(x, P_n, 'numpy')\n",
        "\n",
        "# Set up values for plotting\n",
        "x_vals = np.linspace(-2, 2, 400)\n",
        "f_vals = f_func(x_vals)\n",
        "P_n_vals = P_n_func(x_vals)\n",
        "\n",
        "# Plot the original function and the Taylor polynomial\n",
        "plt.figure(figsize=(10, 6))\n",
        "plt.plot(x_vals, f_vals, label='$f(x) = e^x$', color='blue')\n",
        "plt.plot(x_vals, P_n_vals, label='Taylor Polynomial $P_2(x)$', color='orange', linestyle='--')\n",
        "plt.title('Taylor Polynomial Approximation of $f(x) = e^x$')\n",
        "plt.xlabel('$x$')\n",
        "plt.ylabel('$f(x)$')\n",
        "plt.axhline(0, color='black',linewidth=0.5, ls='--')\n",
        "plt.axvline(0, color='black',linewidth=0.5, ls='--')\n",
        "plt.legend()\n",
        "plt.grid()\n",
        "plt.xlim(-2, 2)\n",
        "plt.ylim(-1, 8)\n",
        "plt.show()\n"
      ],
      "metadata": {
        "id": "191rd3r-2Hj8",
        "outputId": "8affd9c6-a8f0-485d-c843-0c4c08dc1ea1",
        "colab": {
          "base_uri": "https://localhost:8080/",
          "height": 604
        }
      },
      "execution_count": 39,
      "outputs": [
        {
          "output_type": "stream",
          "name": "stdout",
          "text": [
            "Taylor Polynomial P_2(x): x**2/2 + x + 1\n"
          ]
        },
        {
          "output_type": "display_data",
          "data": {
            "text/plain": [
              "<Figure size 1000x600 with 1 Axes>"
            ],
            "image/png": "[encoded data removed]"
          },
          "metadata": {}
        }
      ]
    }
  ]
}