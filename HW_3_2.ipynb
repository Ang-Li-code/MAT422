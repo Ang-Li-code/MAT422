{
  "nbformat": 4,
  "nbformat_minor": 0,
  "metadata": {
    "colab": {
      "provenance": [],
      "authorship_tag": "ABX9TyNiMlwceAHv25JOqFA9uH77",
      "include_colab_link": true
    },
    "kernelspec": {
      "name": "python3",
      "display_name": "Python 3"
    },
    "language_info": {
      "name": "python"
    }
  },
  "cells": [
    {
      "cell_type": "markdown",
      "metadata": {
        "id": "view-in-github",
        "colab_type": "text"
      },
      "source": [
        "<a href=\"https://colab.research.google.com/github/Ang-Li-code/MAT422/blob/main/HW_3_2.ipynb\" target=\"_parent\"><img src=\"https://colab.research.google.com/assets/colab-badge.svg\" alt=\"Open In Colab\"/></a>"
      ]
    },
    {
      "cell_type": "code",
      "source": [
        "# Set up code\n",
        "import sympy as sp"
      ],
      "metadata": {
        "id": "97d_7_FCn0rx"
      },
      "execution_count": 2,
      "outputs": []
    },
    {
      "cell_type": "markdown",
      "source": [
        "# Concepts in Calculus, Part 1\n",
        "\n",
        "The following code will provide examples that demonstrate a few selected principles in the following concepts:\n",
        "- Limits and continuity\n",
        "- Derivatives\n",
        "- Taylor’s theorem"
      ],
      "metadata": {
        "id": "VXnu3GZWk7Zb"
      }
    },
    {
      "cell_type": "markdown",
      "source": [
        "## Limits and Continuity\n",
        "\n",
        "Definition 3.2.1 (Limits of a function). Let $f : D → \\mathbb{R}$ be a real-valued function on $D ⊆ \\mathbb{R}^d$. Then f is said to have a limit L ∈ R as $\\textbf{x}$ approaches $\\textbf{a}$ if: for any ε > 0, there exists a δ > 0 such that $|f (x) − L| < ε$ for all\n",
        "$\\textbf{x} ∈ D ∩ B_δ (a) \\setminus \\{a\\}$. This is written as:\n",
        "\n",
        "$$\n",
        "\\lim _{\\mathbf{x} \\rightarrow \\mathbf{a}} f(\\mathbf{x})=L\n",
        "$$\n",
        "\n",
        "The following code will present a few sample functions and how to derive their limits as a specific point using python."
      ],
      "metadata": {
        "id": "gLwXynWVlPOT"
      }
    },
    {
      "cell_type": "code",
      "source": [
        "# Set up code\n",
        "\n",
        "def limit(f, x, a):\n",
        "    print(\"The limit of:\")\n",
        "    sp.pprint(f)\n",
        "    print(\"as\", x, \"approaches\", a, \"is:\")\n",
        "    sp.pprint(sp.limit(f, x, a))"
      ],
      "metadata": {
        "id": "Kb7mKt5noVHs"
      },
      "execution_count": 26,
      "outputs": []
    },
    {
      "cell_type": "markdown",
      "source": [
        "$\\lim_{x \\rightarrow a} \\frac{1}{x} $"
      ],
      "metadata": {
        "id": "85TwkOJMp4J4"
      }
    },
    {
      "cell_type": "code",
      "source": [
        "x = sp.symbols(\"x\")\n",
        "f = 1/x\n",
        "print(\"a = 0\")\n",
        "limit(f, x, 0)\n",
        "\n",
        "print(\"\\na = 1\")\n",
        "limit(f, x, 1)\n",
        "\n",
        "print(\"\\na = -1\")\n",
        "limit(f, x, -1)"
      ],
      "metadata": {
        "id": "6Dpy5LGmp16g",
        "outputId": "f6f975b7-ee90-4b26-e0a1-a6b4398b3e02",
        "colab": {
          "base_uri": "https://localhost:8080/"
        }
      },
      "execution_count": 30,
      "outputs": [
        {
          "output_type": "stream",
          "name": "stdout",
          "text": [
            "a = 0\n",
            "The limit of:\n",
            "1\n",
            "─\n",
            "x\n",
            "as x approaches 0 is:\n",
            "∞\n",
            "\n",
            "a = 1\n",
            "The limit of:\n",
            "1\n",
            "─\n",
            "x\n",
            "as x approaches 1 is:\n",
            "1\n",
            "\n",
            "a = -1\n",
            "The limit of:\n",
            "1\n",
            "─\n",
            "x\n",
            "as x approaches -1 is:\n",
            "-1\n"
          ]
        }
      ]
    }
  ]
}