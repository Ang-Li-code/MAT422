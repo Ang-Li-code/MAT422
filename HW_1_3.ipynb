{
  "nbformat": 4,
  "nbformat_minor": 0,
  "metadata": {
    "colab": {
      "provenance": [],
      "authorship_tag": "ABX9TyN9d+Rilm/0PmSqM7CPc6FD",
      "include_colab_link": true
    },
    "kernelspec": {
      "name": "python3",
      "display_name": "Python 3"
    },
    "language_info": {
      "name": "python"
    }
  },
  "cells": [
    {
      "cell_type": "markdown",
      "metadata": {
        "id": "view-in-github",
        "colab_type": "text"
      },
      "source": [
        "<a href=\"https://colab.research.google.com/github/Ang-Li-code/MAT422/blob/main/HW_1_3.ipynb\" target=\"_parent\"><img src=\"https://colab.research.google.com/assets/colab-badge.svg\" alt=\"Open In Colab\"/></a>"
      ]
    },
    {
      "cell_type": "markdown",
      "source": [
        "# Concepts in Linear Algebra, Part 2\n",
        "\n",
        "The following code will provide examples that demonstrate a few selected principles observed in the subjects of QR Decomposition, Least-Squares Problems, and Linear Regression.\n",
        "\n",
        "This will be accomplished through generating random vectors and datasets to illustrate the principles observed in each topic."
      ],
      "metadata": {
        "id": "YAay4KEcXGg4"
      }
    },
    {
      "cell_type": "markdown",
      "source": [
        "## QR Decomposition\n",
        "\n",
        "We have learned that through the Gram-Schmidt process, a matrix A can be decomposed into two matrices, Q and R, where A = QR.\n",
        "\n",
        "The following code will validate the decomposition process. (Note that there may be round offs and the dot product of QR may be very close to, but not entirely equivalent, to A)\n"
      ],
      "metadata": {
        "id": "E_tHEXoXXWCm"
      }
    },
    {
      "cell_type": "code",
      "source": [
        "import random\n",
        "import numpy as np\n",
        "\n",
        "# Generates a random 3x3 matrix\n",
        "def randomMatrix():\n",
        "  x1 = random.randrange(0, 9)\n",
        "  x2 = random.randrange(0, 9)\n",
        "  x3 = random.randrange(0, 9)\n",
        "  x4 = random.randrange(0, 9)\n",
        "  x5 = random.randrange(0, 9)\n",
        "  x6 = random.randrange(0, 9)\n",
        "  x7 = random.randrange(0, 9)\n",
        "  x8 = random.randrange(0, 9)\n",
        "  x9 = random.randrange(0, 9)\n",
        "\n",
        "  A = np.array([[x1, x2, x3],\n",
        "               [x4, x5, x6],\n",
        "               [x7, x8, x9]])\n",
        "\n",
        "  return A\n",
        "\n",
        "# Create a random 3x3 matrix\n",
        "matrixA = randomMatrix()\n",
        "print(\"Matrix A: \\n\", matrixA)\n",
        "\n",
        "# Perform Q R decompisition on the matrix\n",
        "q, r = np.linalg.qr(matrixA)\n",
        "\n",
        "print(\"\\nQ: \\n\", q)\n",
        "print(\"\\nR: \\n\", r)\n",
        "\n",
        "# Validate that A = QR\n",
        "newA = np.dot(q, r)\n",
        "print(\"\\nQR = \\n\", newA)\n",
        "\n"
      ],
      "metadata": {
        "colab": {
          "base_uri": "https://localhost:8080/"
        },
        "id": "yugbx4IPYPLe",
        "outputId": "b0163adf-c3cb-4c6e-fe88-959ed925384f"
      },
      "execution_count": 8,
      "outputs": [
        {
          "output_type": "stream",
          "name": "stdout",
          "text": [
            "Matrix A: \n",
            " [[3 2 6]\n",
            " [7 5 0]\n",
            " [1 0 0]]\n",
            "\n",
            "Q: \n",
            " [[-0.39056673  0.11884567 -0.91287093]\n",
            " [-0.91132238 -0.19015308  0.36514837]\n",
            " [-0.13018891  0.97453451  0.18257419]]\n",
            "\n",
            "R: \n",
            " [[-7.68114575 -5.33774535 -2.3434004 ]\n",
            " [ 0.         -0.71307403  0.71307403]\n",
            " [ 0.          0.         -5.47722558]]\n",
            "\n",
            "QR = \n",
            " [[ 3.00000000e+00  2.00000000e+00  6.00000000e+00]\n",
            " [ 7.00000000e+00  5.00000000e+00  1.33541675e-15]\n",
            " [ 1.00000000e+00  2.80189643e-16 -1.51866092e-15]]\n"
          ]
        }
      ]
    },
    {
      "cell_type": "markdown",
      "source": [
        "## Least-Squares Problems\n",
        "\n",
        "We learned that for the equation Ax = b, in an overdetermined case, where A is an nxm matrix, n > m, and b is a vector of dimension n, there may not be a possible solution for x, and thus we seek to find a vector $x^*$ that minimizes Ax = b\n",
        "\n",
        "In order to solve for $x^*$, we may either utilize the invertible nature of $A^TA$ or $QR$ decomposition, where $(A^TA)^{-1}A^Tb = x^*$ or $R^{-1}Q^Tb = x^*$, respectively.\n",
        "\n",
        "Since it is very difficult to show that $x^*$ is the best approximation for Ax = b, the following code will only display the results of each method and show that they both arrive at the same answer (note: there may be round off issues)"
      ],
      "metadata": {
        "id": "ljQ_qshdaGUx"
      }
    },
    {
      "cell_type": "code",
      "source": [
        "def randomVector():\n",
        "  x1 = random.randrange(0, 9)\n",
        "  x2 = random.randrange(0, 9)\n",
        "  x3 = random.randrange(0, 9)\n",
        "\n",
        "  vector = np.array([[x1], [x2], [x3]])\n",
        "\n",
        "  return vector\n",
        "\n",
        "def inverse_x_star(A, b):\n",
        "  A_t = np.transpose(A)\n",
        "  ans = np.dot(np.dot(np.linalg.inv(np.dot(A_t, A)), A_t), b)\n",
        "\n",
        "  return ans\n",
        "\n",
        "def QR_x_star(A, b):\n",
        "  q, r = np.linalg.qr(A)\n",
        "  q_t = np.transpose(q)\n",
        "  ans = np.dot(np.dot(np.linalg.inv(r),  q_t), b)\n",
        "\n",
        "  return ans\n",
        "\n",
        "# Generate a random 3x3 matrix and a random 3x1 vector\n",
        "A = randomMatrix()\n",
        "b = randomVector()\n",
        "\n",
        "print(\"Matrix A: \\n\", A)\n",
        "print(\"\\nVector b: \\n\", b)\n",
        "\n",
        "# Generate x star using the two methods mentioned above\n",
        "inv_x_star = inverse_x_star(A, b)\n",
        "qr_x_star = QR_x_star(A, b)\n",
        "\n",
        "print(\"\\nX star using inverse of A: \\n\", inv_x_star)\n",
        "print(\"\\nX star using QR of A: \\n\", qr_x_star)"
      ],
      "metadata": {
        "colab": {
          "base_uri": "https://localhost:8080/"
        },
        "id": "fJ-3Iztzgc7k",
        "outputId": "9c18042b-f9e0-4c8c-c715-1861fbfca2ff"
      },
      "execution_count": 30,
      "outputs": [
        {
          "output_type": "stream",
          "name": "stdout",
          "text": [
            "Matrix A: \n",
            " [[8 3 2]\n",
            " [7 3 7]\n",
            " [3 4 7]]\n",
            "\n",
            "Vector b: \n",
            " [[7]\n",
            " [3]\n",
            " [8]]\n",
            "\n",
            "X star using inverse of A: \n",
            " [[-0.31372549]\n",
            " [ 3.74509804]\n",
            " [-0.8627451 ]]\n",
            "\n",
            "X star using QR of A: \n",
            " [[-0.31372549]\n",
            " [ 3.74509804]\n",
            " [-0.8627451 ]]\n"
          ]
        }
      ]
    },
    {
      "cell_type": "markdown",
      "source": [
        "## Linear Regression"
      ],
      "metadata": {
        "id": "1vQ32y6SjiPb"
      }
    }
  ]
}