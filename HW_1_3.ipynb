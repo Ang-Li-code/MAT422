{
  "nbformat": 4,
  "nbformat_minor": 0,
  "metadata": {
    "colab": {
      "provenance": [],
      "authorship_tag": "ABX9TyO36SvlSHKeXMHC+RbFIUUW",
      "include_colab_link": true
    },
    "kernelspec": {
      "name": "python3",
      "display_name": "Python 3"
    },
    "language_info": {
      "name": "python"
    }
  },
  "cells": [
    {
      "cell_type": "markdown",
      "metadata": {
        "id": "view-in-github",
        "colab_type": "text"
      },
      "source": [
        "<a href=\"https://colab.research.google.com/github/Ang-Li-code/MAT422/blob/main/HW_1_3.ipynb\" target=\"_parent\"><img src=\"https://colab.research.google.com/assets/colab-badge.svg\" alt=\"Open In Colab\"/></a>"
      ]
    },
    {
      "cell_type": "markdown",
      "source": [
        "# Concepts in Linear Algebra, Part 2\n",
        "\n",
        "The following code will provide examples that demonstrate a few selected principles observed in the subjects of QR Decomposition, Least-Squares Problems, and Linear Regression.\n",
        "\n",
        "This will be accomplished through generating random vectors and datasets to illustrate the principles observed in each topic."
      ],
      "metadata": {
        "id": "YAay4KEcXGg4"
      }
    },
    {
      "cell_type": "markdown",
      "source": [
        "## QR Decomposition\n",
        "\n",
        "We have learned that through the Gram-Schmidt process, a matrix A can be decomposed into two matrices, Q and R, where A = QR.\n",
        "\n",
        "The following code will validate the decomposition process. (Note that there may be round offs and the dot product of QR may be very close to, but not entirely equivalent, to A)\n"
      ],
      "metadata": {
        "id": "E_tHEXoXXWCm"
      }
    },
    {
      "cell_type": "code",
      "source": [
        "import random\n",
        "import numpy as np\n",
        "\n",
        "# Generates a random 3x3 matrix\n",
        "def randomMatrix():\n",
        "  x1 = random.randrange(0, 9)\n",
        "  x2 = random.randrange(0, 9)\n",
        "  x3 = random.randrange(0, 9)\n",
        "  x4 = random.randrange(0, 9)\n",
        "  x5 = random.randrange(0, 9)\n",
        "  x6 = random.randrange(0, 9)\n",
        "  x7 = random.randrange(0, 9)\n",
        "  x8 = random.randrange(0, 9)\n",
        "  x9 = random.randrange(0, 9)\n",
        "\n",
        "  A = np.array([[x1, x2, x3],\n",
        "               [x4, x5, x6],\n",
        "               [x7, x8, x9]])\n",
        "\n",
        "  return A\n",
        "\n",
        "# Create a random 3x3 matrix\n",
        "matrixA = randomMatrix()\n",
        "print(\"Matrix A: \\n\", matrixA)\n",
        "\n",
        "# Perform Q R decompisition on the matrix\n",
        "q, r = np.linalg.qr(matrixA)\n",
        "\n",
        "print(\"\\nQ: \\n\", q)\n",
        "print(\"\\nR: \\n\", r)\n",
        "\n",
        "# Validate that A = QR\n",
        "newA = np.dot(q, r)\n",
        "print(\"\\nQR = \\n\", newA)\n",
        "\n"
      ],
      "metadata": {
        "colab": {
          "base_uri": "https://localhost:8080/"
        },
        "id": "yugbx4IPYPLe",
        "outputId": "b0163adf-c3cb-4c6e-fe88-959ed925384f"
      },
      "execution_count": 8,
      "outputs": [
        {
          "output_type": "stream",
          "name": "stdout",
          "text": [
            "Matrix A: \n",
            " [[3 2 6]\n",
            " [7 5 0]\n",
            " [1 0 0]]\n",
            "\n",
            "Q: \n",
            " [[-0.39056673  0.11884567 -0.91287093]\n",
            " [-0.91132238 -0.19015308  0.36514837]\n",
            " [-0.13018891  0.97453451  0.18257419]]\n",
            "\n",
            "R: \n",
            " [[-7.68114575 -5.33774535 -2.3434004 ]\n",
            " [ 0.         -0.71307403  0.71307403]\n",
            " [ 0.          0.         -5.47722558]]\n",
            "\n",
            "QR = \n",
            " [[ 3.00000000e+00  2.00000000e+00  6.00000000e+00]\n",
            " [ 7.00000000e+00  5.00000000e+00  1.33541675e-15]\n",
            " [ 1.00000000e+00  2.80189643e-16 -1.51866092e-15]]\n"
          ]
        }
      ]
    },
    {
      "cell_type": "markdown",
      "source": [
        "## Least-Squares Problems\n",
        "\n",
        "We learned that for the equation Ax = b, in an overdetermined case, where A is an nxm matrix, n > m, and b is a vector of dimension n, there may not be a possible solution for x, and thus we seek to find a vector $x^*$ that minimizes Ax = b\n",
        "\n",
        "In order to solve for $x^*$, we may either utilize the invertible nature of $A^TA$ or $QR$ decomposition, where $(A^TA)^{-1}A^Tb = x^*$ or $R^{-1}Q^Tb = x^*$, respectively.\n",
        "\n",
        "Since it is very difficult to show that $x^*$ is the best approximation for Ax = b, the following code will only display the results of each method, and show why one may be more preferable to the other."
      ],
      "metadata": {
        "id": "ljQ_qshdaGUx"
      }
    },
    {
      "cell_type": "code",
      "source": [
        "def randomVector():\n",
        "  x1 = random.randrange(0, 9)\n",
        "  x2 = random.randrange(0, 9)\n",
        "  x3 = random.randrange(0, 9)\n",
        "\n",
        "  vector = np.array([[x1], [x2], [x3]])\n",
        "\n",
        "  return vector\n",
        "\n",
        "def inverse_x_star(A, b):\n",
        "  A_t = np.transpose(A)\n",
        "  ans = np.linalg.inv(A_t * A) * A_t * b\n",
        "\n",
        "  return ans\n",
        "\n",
        "def QR_x_star(A, b):\n",
        "  q, r = np.linalg.qr(A)\n",
        "  q_t = np.transpose(q)\n",
        "  ans = np.dot(np.linalg.inv(r),  q_t, b)\n",
        "\n",
        "  return ans\n",
        "\n",
        "# Generate a random 3x3 matrix and a random 3x1 vector\n",
        "A = randomMatrix()\n",
        "b = randomVector()\n",
        "\n",
        "print(\"Matrix A: \\n\", A)\n",
        "print(\"\\nVector b: \\n\", b)\n",
        "\n",
        "# Generate x star using the two methods mentioned above\n",
        "inv_x_star = inverse_x_star(A, b)\n",
        "qr_x_star = QR_x_star(A, b)\n",
        "\n",
        "print(\"X star using inverse of A: \", inv_x_star)\n",
        "print(\"X star using QR of A: \", qr_x_star)"
      ],
      "metadata": {
        "colab": {
          "base_uri": "https://localhost:8080/",
          "height": 502
        },
        "id": "fJ-3Iztzgc7k",
        "outputId": "2965af09-9563-4773-caf5-109775628735"
      },
      "execution_count": 22,
      "outputs": [
        {
          "output_type": "stream",
          "name": "stdout",
          "text": [
            "Matrix A: \n",
            " [[1 6 1]\n",
            " [3 3 8]\n",
            " [1 7 1]]\n",
            "\n",
            "Vector b: \n",
            " [[3]\n",
            " [8]\n",
            " [4]]\n"
          ]
        },
        {
          "output_type": "error",
          "ename": "ValueError",
          "evalue": "output array is not acceptable (must have the right datatype, number of dimensions, and be a C-Array)",
          "traceback": [
            "\u001b[0;31m---------------------------------------------------------------------------\u001b[0m",
            "\u001b[0;31mValueError\u001b[0m                                Traceback (most recent call last)",
            "\u001b[0;32m<ipython-input-22-4250a0134259>\u001b[0m in \u001b[0;36m<cell line: 32>\u001b[0;34m()\u001b[0m\n\u001b[1;32m     30\u001b[0m \u001b[0;31m# Generate x star using the two methods mentioned above\u001b[0m\u001b[0;34m\u001b[0m\u001b[0;34m\u001b[0m\u001b[0m\n\u001b[1;32m     31\u001b[0m \u001b[0minv_x_star\u001b[0m \u001b[0;34m=\u001b[0m \u001b[0minverse_x_star\u001b[0m\u001b[0;34m(\u001b[0m\u001b[0mA\u001b[0m\u001b[0;34m,\u001b[0m \u001b[0mb\u001b[0m\u001b[0;34m)\u001b[0m\u001b[0;34m\u001b[0m\u001b[0;34m\u001b[0m\u001b[0m\n\u001b[0;32m---> 32\u001b[0;31m \u001b[0mqr_x_star\u001b[0m \u001b[0;34m=\u001b[0m \u001b[0mQR_x_star\u001b[0m\u001b[0;34m(\u001b[0m\u001b[0mA\u001b[0m\u001b[0;34m,\u001b[0m \u001b[0mb\u001b[0m\u001b[0;34m)\u001b[0m\u001b[0;34m\u001b[0m\u001b[0;34m\u001b[0m\u001b[0m\n\u001b[0m\u001b[1;32m     33\u001b[0m \u001b[0;34m\u001b[0m\u001b[0m\n\u001b[1;32m     34\u001b[0m \u001b[0mprint\u001b[0m\u001b[0;34m(\u001b[0m\u001b[0;34m\"X star using inverse of A: \"\u001b[0m\u001b[0;34m,\u001b[0m \u001b[0minv_x_star\u001b[0m\u001b[0;34m)\u001b[0m\u001b[0;34m\u001b[0m\u001b[0;34m\u001b[0m\u001b[0m\n",
            "\u001b[0;32m<ipython-input-22-4250a0134259>\u001b[0m in \u001b[0;36mQR_x_star\u001b[0;34m(A, b)\u001b[0m\n\u001b[1;32m     17\u001b[0m   \u001b[0mq\u001b[0m\u001b[0;34m,\u001b[0m \u001b[0mr\u001b[0m \u001b[0;34m=\u001b[0m \u001b[0mnp\u001b[0m\u001b[0;34m.\u001b[0m\u001b[0mlinalg\u001b[0m\u001b[0;34m.\u001b[0m\u001b[0mqr\u001b[0m\u001b[0;34m(\u001b[0m\u001b[0mA\u001b[0m\u001b[0;34m)\u001b[0m\u001b[0;34m\u001b[0m\u001b[0;34m\u001b[0m\u001b[0m\n\u001b[1;32m     18\u001b[0m   \u001b[0mq_t\u001b[0m \u001b[0;34m=\u001b[0m \u001b[0mnp\u001b[0m\u001b[0;34m.\u001b[0m\u001b[0mtranspose\u001b[0m\u001b[0;34m(\u001b[0m\u001b[0mq\u001b[0m\u001b[0;34m)\u001b[0m\u001b[0;34m\u001b[0m\u001b[0;34m\u001b[0m\u001b[0m\n\u001b[0;32m---> 19\u001b[0;31m   \u001b[0mans\u001b[0m \u001b[0;34m=\u001b[0m \u001b[0mnp\u001b[0m\u001b[0;34m.\u001b[0m\u001b[0mdot\u001b[0m\u001b[0;34m(\u001b[0m\u001b[0mnp\u001b[0m\u001b[0;34m.\u001b[0m\u001b[0mlinalg\u001b[0m\u001b[0;34m.\u001b[0m\u001b[0minv\u001b[0m\u001b[0;34m(\u001b[0m\u001b[0mr\u001b[0m\u001b[0;34m)\u001b[0m\u001b[0;34m,\u001b[0m  \u001b[0mq_t\u001b[0m\u001b[0;34m,\u001b[0m \u001b[0mb\u001b[0m\u001b[0;34m)\u001b[0m\u001b[0;34m\u001b[0m\u001b[0;34m\u001b[0m\u001b[0m\n\u001b[0m\u001b[1;32m     20\u001b[0m \u001b[0;34m\u001b[0m\u001b[0m\n\u001b[1;32m     21\u001b[0m   \u001b[0;32mreturn\u001b[0m \u001b[0mans\u001b[0m\u001b[0;34m\u001b[0m\u001b[0;34m\u001b[0m\u001b[0m\n",
            "\u001b[0;31mValueError\u001b[0m: output array is not acceptable (must have the right datatype, number of dimensions, and be a C-Array)"
          ]
        }
      ]
    }
  ]
}