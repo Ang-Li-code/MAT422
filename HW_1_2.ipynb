{
  "nbformat": 4,
  "nbformat_minor": 0,
  "metadata": {
    "colab": {
      "provenance": [],
      "authorship_tag": "ABX9TyPXx4WqEtYcMix1SlzHoIiV",
      "include_colab_link": true
    },
    "kernelspec": {
      "name": "python3",
      "display_name": "Python 3"
    },
    "language_info": {
      "name": "python"
    }
  },
  "cells": [
    {
      "cell_type": "markdown",
      "metadata": {
        "id": "view-in-github",
        "colab_type": "text"
      },
      "source": [
        "<a href=\"https://colab.research.google.com/github/Ang-Li-code/MAT422/blob/main/HW_1_2.ipynb\" target=\"_parent\"><img src=\"https://colab.research.google.com/assets/colab-badge.svg\" alt=\"Open In Colab\"/></a>"
      ]
    },
    {
      "cell_type": "markdown",
      "source": [
        "# **Concepts in Linear Algebra, Part 1**\n",
        "\n",
        "The following code will provide examples that demonstrate a few selected principles observed in the subjects of linear subspaces, orthogonality, the gram-schmidt progress, as well as eigenvalues and eigenvectors.\n",
        "\n",
        "This will be accomplished through generating random vectors and demonstrating that they exhibit the properties described in each topic.\n",
        "\n",
        "## Span\n",
        "\n",
        "We learned that the span of a set of vectors is closed under vector addition, as well as scalar multiplication.\n",
        "\n",
        "### Closure under vector addition"
      ],
      "metadata": {
        "id": "qAMME7Yl7Tsi"
      }
    },
    {
      "cell_type": "code",
      "source": [
        "import random\n",
        "import numpy as np\n",
        "\n",
        "# Returns a random vector in R3 with coordinate values between 0 and 9\n",
        "def random3Dvector():\n",
        "  x1 = random.randrange(0, 9)\n",
        "  x2 = random.randrange(0, 9)\n",
        "  x3 = random.randrange(0, 9)\n",
        "\n",
        "  vector = np.array([x1, x2, x3])\n",
        "\n",
        "  return vector\n",
        "\n",
        "# Generate 3 random vectors and 2 sets of 3 random coefficients\n",
        "vector1 = random3Dvector()\n",
        "vector2 = random3Dvector()\n",
        "vector3 = random3Dvector()\n",
        "\n",
        "print(\"Vector1 = \", vector1)\n",
        "print(\"Vector2 = \", vector2)\n",
        "print(\"Vector3 = \", vector3)\n",
        "\n",
        "alpha1 = random.randrange(0, 9)\n",
        "alpha2 = random.randrange(0, 9)\n",
        "alpha3 = random.randrange(0, 9)\n",
        "\n",
        "print(\"\\nalpha1 = \", alpha1)\n",
        "print(\"alpha2 = \", alpha2)\n",
        "print(\"alpha3 = \", alpha3)\n",
        "\n",
        "beta1 = random.randrange(0, 9)\n",
        "beta2 = random.randrange(0, 9)\n",
        "beta3 = random.randrange(0, 9)\n",
        "\n",
        "print(\"\\nbeta1 = \", beta1)\n",
        "print(\"beta2 = \", beta2)\n",
        "print(\"beta3 = \", beta3)\n",
        "\n",
        "# Generate 2 linear combinations of the previous 3 vectors\n",
        "alphaVector = alpha1 * vector1 + alpha2 * vector2 + alpha3 * vector3\n",
        "print(\"\\nalphaVector = alpha1 * vector1 + alpha2 * vector2 + alpha3 * vector3  = \", alpha1, \"*\", vector1, \"+\", alpha2, \"*\", vector2, \"+\", alpha3, \"*\", vector3, \"=\", alphaVector)\n",
        "\n",
        "betaVector = beta1 * vector1 + beta2 * vector2 + beta3 * vector3\n",
        "print(\"betaVector = beta1 * vector1 + beta2 * vector2 + beta3 * vector3 = \", beta1, \"*\", vector1, \"+\", beta2, \"*\", vector2, \"+\", beta3, \"*\", vector3, \"=\", betaVector)\n",
        "\n",
        "# Add the 2 new vectors and prove that it could also be generate via linear combination of the 3 original vectors\n",
        "thetaVector = alphaVector + betaVector\n",
        "print(\"\\nthetaVector = alphaVector + betaVecotr = \", thetaVector)\n",
        "\n",
        "deltaVector = (alpha1 + beta1) * vector1 + (alpha2 + beta2) * vector2 + (alpha3 + beta3) * vector3\n",
        "print(\"deltaVector = (alpha1 + beta1) * vector1 + (alpha2 + beta2) * vector2 + (alpha3 + beta3) * vector3 = \", deltaVector)\n"
      ],
      "metadata": {
        "colab": {
          "base_uri": "https://localhost:8080/"
        },
        "id": "GqFTRT816HnG",
        "outputId": "b6591130-f6cf-4196-a459-c328fbf28ae3"
      },
      "execution_count": null,
      "outputs": [
        {
          "output_type": "stream",
          "name": "stdout",
          "text": [
            "Vector1 =  [5 2 2]\n",
            "Vector2 =  [4 5 2]\n",
            "Vector3 =  [4 5 5]\n",
            "\n",
            "alpha1 =  8\n",
            "alpha2 =  0\n",
            "alpha3 =  4\n",
            "\n",
            "beta1 =  4\n",
            "beta2 =  7\n",
            "beta3 =  7\n",
            "\n",
            "alphaVector = alpha1 * vector1 + alpha2 * vector2 + alpha3 * vector3  =  8 * [5 2 2] + 0 * [4 5 2] + 4 * [4 5 5] = [56 36 36]\n",
            "betaVector = beta1 * vector1 + beta2 * vector2 + beta3 * vector3 =  4 * [5 2 2] + 7 * [4 5 2] + 7 * [4 5 5] = [76 78 57]\n",
            "\n",
            "thetaVector = alphaVector + betaVecotr =  [132 114  93]\n",
            "deltaVector = (alpha1 + beta1) * vector1 + (alpha2 + beta2) * vector2 + (alpha3 + beta3) * vector3 =  [132 114  93]\n"
          ]
        }
      ]
    },
    {
      "cell_type": "markdown",
      "source": [
        "### Closure under scalar multiplication\n"
      ],
      "metadata": {
        "id": "7WnbOwVfFrYs"
      }
    },
    {
      "cell_type": "code",
      "source": [
        "# Generate 3 random scalars\n",
        "alpha1 = random.randrange(0, 9)\n",
        "alpha2 = random.randrange(0, 9)\n",
        "alpha3 = random.randrange(0, 9)\n",
        "\n",
        "print(\"\\nalpha1 = \", alpha1)\n",
        "print(\"alpha2 = \", alpha2)\n",
        "print(\"alpha3 = \", alpha3)\n",
        "\n",
        "# Generate a linear combination using the scalars\n",
        "alphaVector = alpha1 * vector1 + alpha2 * vector2 + alpha3 * vector3\n",
        "print(\"\\nalphaVector = alpha1 * vector1 + alpha2 * vector2 + alpha3 * vector3  = \", alpha1, \"*\", vector1, \"+\", alpha2, \"*\", vector2, \"+\", alpha3, \"*\", vector3, \"=\", alphaVector)\n",
        "\n",
        "# Perform scalar multiplication on the new vector\n",
        "beta = random.randrange(2, 9)\n",
        "print(\"\\nbeta = \", beta)\n",
        "\n",
        "betaVector = beta * alphaVector\n",
        "print(\"betaVector = beta * alphaVector = \", beta, \"*\", alphaVector, \"=\", betaVector)\n",
        "\n",
        "# Show that product of scalar multiplication is still a linear combination of the original 3 vectors\n",
        "thetaVector = (beta * alpha1) * vector1 + (beta * alpha2) * vector2 + (beta * alpha3) * vector3\n",
        "print(\"\\nthetaVector = (beta * alpha1) * vector1 + (beta * alpha2) * vector2 + (beta * alpha3) * vector3 = \", thetaVector)"
      ],
      "metadata": {
        "colab": {
          "base_uri": "https://localhost:8080/"
        },
        "id": "h93TR1YEGVHe",
        "outputId": "e53f7c87-33d9-4819-8dcb-1fb79e84c6d7"
      },
      "execution_count": null,
      "outputs": [
        {
          "output_type": "stream",
          "name": "stdout",
          "text": [
            "\n",
            "alpha1 =  1\n",
            "alpha2 =  6\n",
            "alpha3 =  3\n",
            "\n",
            "alphaVector = alpha1 * vector1 + alpha2 * vector2 + alpha3 * vector3  =  1 * [8 3 2] + 6 * [2 8 5] + 3 * [7 2 4] = [41 57 44]\n",
            "\n",
            "beta =  7\n",
            "betaVector = beta * alphaVector =  7 * [41 57 44] = [287 399 308]\n",
            "\n",
            "thetaVector = (beta * alpha1) * vector1 + (beta * alpha2) * vector2 + (beta * alpha3) * vector3 =  [287 399 308]\n"
          ]
        }
      ]
    },
    {
      "cell_type": "markdown",
      "source": [
        "## Orthogonality\n",
        "\n",
        "We have learned that the absolute value of the inner product of any two vectors cannot be greater than the product of their individual magnitudes.\n",
        "\n",
        "(Note that in this code below, since the vectors are programmed to only contain components of positive values, we do not need to worry about calculating the absolute value of their inner product.)"
      ],
      "metadata": {
        "id": "zmlZqKonH0lv"
      }
    },
    {
      "cell_type": "code",
      "source": [
        "# This function calculates the inner product of 2 vectors (must be 3 dimensional)\n",
        "def innerProduct(vec1, vec2):\n",
        "  sum = 0\n",
        "  for i in range(0, 3):\n",
        "    sum += vec1[i] * vec2[i]\n",
        "  return sum\n",
        "\n",
        "# This function calculates the norm of a vector (must be 3 dimensional)\n",
        "def norm(vec):\n",
        "  sum = 0\n",
        "  for i in range(0, 3):\n",
        "    sum += np.power(vec[i], 2)\n",
        "  return np.sqrt(sum)\n",
        "\n",
        "# Generate 2 random vectors\n",
        "vector1 = random3Dvector()\n",
        "vector2 = random3Dvector()\n",
        "\n",
        "print(\"Vector1 = \", vector1)\n",
        "print(\"Vector2 = \", vector2)\n",
        "\n",
        "# Calculate the norms of the 2 vectors\n",
        "norm1 = norm(vector1)\n",
        "norm2 = norm(vector2)\n",
        "\n",
        "print(\"\\nNorm of vector1 = \", norm1)\n",
        "print(\"Norm of vector2 = \", norm2)\n",
        "\n",
        "# Calculate the product of the norms of the 2 vectors\n",
        "product_of_norms = norm1 * norm2\n",
        "print(\"\\nnorm1 * norm2 = \", product_of_norms)\n",
        "\n",
        "# Calculate the inner product of the two vectors\n",
        "inner = innerProduct(vector1, vector2)\n",
        "print(\"\\nInner Product = \", inner)\n"
      ],
      "metadata": {
        "colab": {
          "base_uri": "https://localhost:8080/"
        },
        "id": "4jHRAVqGYR-g",
        "outputId": "79c633f4-3e87-44d5-c042-cf9fb52208d6"
      },
      "execution_count": null,
      "outputs": [
        {
          "output_type": "stream",
          "name": "stdout",
          "text": [
            "Vector1 =  [0 8 7]\n",
            "Vector2 =  [7 6 0]\n",
            "\n",
            "Norm of vector1 =  10.63014581273465\n",
            "Norm of vector2 =  9.219544457292887\n",
            "\n",
            "norm1 * norm2 =  98.00510190801293\n",
            "\n",
            "Inner Product =  48\n"
          ]
        }
      ]
    },
    {
      "cell_type": "markdown",
      "source": [
        "# The Gram-Schmidt Process\n",
        "The code below will utilize the Gram-Schmidt algorithm to obtain orthonormal bases for random 3-dimensional vectors\n",
        "\n",
        "(Note that approximations will be made so numbers close to 1 or 0 will be assumed to be 1 or 0, respectively)"
      ],
      "metadata": {
        "id": "feaNLn4Vjvms"
      }
    },
    {
      "cell_type": "code",
      "source": [
        "# This function turns a vector into a unit vector in the same direction (must be 3 dimensional)\n",
        "def unitize(vector):\n",
        "  magnitude = norm(vector)\n",
        "  return vector / magnitude\n",
        "\n",
        "# Generates 3 random vectors\n",
        "print(\"Before Gram-Schmidt Process:\\n\")\n",
        "\n",
        "vector1 = random3Dvector()\n",
        "vector2 = random3Dvector()\n",
        "vector3 = random3Dvector()\n",
        "\n",
        "print(\"Vector1 = \", vector1)\n",
        "print(\"Vector2 = \", vector2)\n",
        "print(\"Vector3 = \", vector3)\n",
        "\n",
        "# Performs the Gram-Schmidt process on the vectors\n",
        "print(\"\\nAfter Gram-Schmidt Process:\\n\")\n",
        "\n",
        "q1 = unitize(vector1)\n",
        "q2 = (vector2 - innerProduct(vector2, q1) * q1) / norm((vector2 - innerProduct(vector2, q1) * q1))\n",
        "q3 = (vector3 - innerProduct(vector3, q1) * q1 - innerProduct(vector3, q2) * q2) / norm((vector3 - innerProduct(vector3, q1) * q1 - innerProduct(vector3, q2) * q2))\n",
        "\n",
        "print(\"q1 = \", q1)\n",
        "print(\"q2 = \", q2)\n",
        "print(\"q3 = \", q3)\n",
        "\n",
        "# Show that the 3 vectors are orthonormal\n",
        "print(\"\\nProof of orthonormality\\n\")\n",
        "\n",
        "print(\"||q1|| = \", norm(q1))\n",
        "print(\"||q2|| = \", norm(q2))\n",
        "print(\"||q3|| = \", norm(q3))\n",
        "\n",
        "print(\"\\n<q1, q2> = \", innerProduct(q1, q2))\n",
        "print(\"<q1, q3> = \", innerProduct(q1, q3))\n",
        "print(\"<q2, q3> = \", innerProduct(q2, q3))\n"
      ],
      "metadata": {
        "colab": {
          "base_uri": "https://localhost:8080/"
        },
        "id": "378EzRebkMBz",
        "outputId": "f63462d2-6030-4fcf-d4ed-402559f23e20"
      },
      "execution_count": null,
      "outputs": [
        {
          "output_type": "stream",
          "name": "stdout",
          "text": [
            "Before Gram-Schmidt Process:\n",
            "\n",
            "Vector1 =  [6 1 5]\n",
            "Vector2 =  [5 4 5]\n",
            "Vector3 =  [7 0 1]\n",
            "\n",
            "After Gram-Schmidt Process:\n",
            "\n",
            "q1 =  [0.76200076 0.12700013 0.63500064]\n",
            "q2 =  [-0.22606651  0.97105841  0.07706813]\n",
            "q3 =  [ 0.60683505  0.20227835 -0.76865772]\n",
            "\n",
            "Proof of orthonormality\n",
            "\n",
            "||q1|| =  0.9999999999999999\n",
            "||q2|| =  1.0\n",
            "||q3|| =  0.9999999999999999\n",
            "\n",
            "<q1, q2> =  2.1510571102112408e-16\n",
            "<q1, q3> =  -5.551115123125783e-17\n",
            "<q2, q3> =  -2.914335439641036e-16\n"
          ]
        }
      ]
    },
    {
      "cell_type": "markdown",
      "source": [
        "# Eigenvalues and Eigenvectors\n",
        "\n",
        "We learned that an n-th dimension matrix there can be at most n distinct eigenvalues.\n",
        "\n",
        "The code below will demonstrate one sample matrix and it's eigenvalues, and then proceed to show that any random n-th dimension matrix will not have more than n distinct eigenvalues"
      ],
      "metadata": {
        "id": "Qx-3KTj_AGVT"
      }
    },
    {
      "cell_type": "code",
      "source": [
        "matrix1 = np.matrix(\"0, 1; -2, -3\")\n",
        "print(\"Matrix1 = \\n\", matrix1)\n",
        "\n",
        "eigenvalues, eigenvectors = np.linalg.eig(matrix1)\n",
        "print(\"\\nMatrix1 eigenvalues: \\n\", eigenvalues)\n",
        "\n",
        "num_unique = len(np.unique(eigenvalues))\n",
        "\n",
        "print(\"\\nNumber of distinct eigenvalues:\", num_unique)\n",
        "\n",
        "matrix2 = np.matrix(\"2, 3, 1; 0, 1, 2; 0, 0, 1\")\n",
        "print(\"\\nMatrix2 = \\n\", matrix2)\n",
        "\n",
        "eigenvalues, eigenvectors = np.linalg.eig(matrix2)\n",
        "print(\"\\nMatrix2 eigenvalues: \\n\", eigenvalues)\n",
        "\n",
        "num_unique = len(np.unique(eigenvalues))\n",
        "\n",
        "print(\"\\nNumber of distinct eigenvalues:\", num_unique)"
      ],
      "metadata": {
        "colab": {
          "base_uri": "https://localhost:8080/"
        },
        "id": "hegMnK61LJGh",
        "outputId": "705f63f7-5e0b-45af-d924-4a210b69205d"
      },
      "execution_count": null,
      "outputs": [
        {
          "output_type": "stream",
          "name": "stdout",
          "text": [
            "Matrix1 = \n",
            " [[ 0  1]\n",
            " [-2 -3]]\n",
            "\n",
            "Matrix1 eigenvalues: \n",
            " [-1. -2.]\n",
            "\n",
            "Number of distinct eigenvalues: 2\n",
            "\n",
            "Matrix2 = \n",
            " [[2 3 1]\n",
            " [0 1 2]\n",
            " [0 0 1]]\n",
            "\n",
            "Matrix2 eigenvalues: \n",
            " [2. 1. 1.]\n",
            "\n",
            "Number of distinct eigenvalues: 2\n"
          ]
        }
      ]
    },
    {
      "cell_type": "code",
      "source": [
        "# Generates a random matrix of a certain dimension\n",
        "def randomMatrix(dim):\n",
        "  return np.random.rand(dim, dim)\n",
        "\n",
        "num = random.randrange(2, 1000)\n",
        "matrix3 = randomMatrix(num)\n",
        "\n",
        "print(\"Dimensions: \", num)\n",
        "print(\"\\nMatrix: \", matrix3)\n",
        "\n",
        "eigenvalues, eigenvectors = np.linalg.eig(matrix3)\n",
        "num_eigenvalues = len(np.unique(eigenvalues))\n",
        "\n",
        "print(\"\\nNumber of distinct eigenvalues: \", num_eigenvalues)"
      ],
      "metadata": {
        "colab": {
          "base_uri": "https://localhost:8080/"
        },
        "id": "Oxz5zhrrL36D",
        "outputId": "48017da4-2678-46b9-82f5-96a6693ea7f9"
      },
      "execution_count": null,
      "outputs": [
        {
          "output_type": "stream",
          "name": "stdout",
          "text": [
            "Dimensions:  788\n",
            "\n",
            "Matrix:  [[0.96188881 0.24134897 0.30895234 ... 0.15389396 0.53854705 0.21577385]\n",
            " [0.69697989 0.49018391 0.38093675 ... 0.02457207 0.51163625 0.24663968]\n",
            " [0.56618041 0.58203012 0.22089908 ... 0.47059275 0.16913762 0.79994516]\n",
            " ...\n",
            " [0.24832932 0.76310641 0.74966618 ... 0.02066669 0.52688818 0.5097684 ]\n",
            " [0.79428988 0.07488829 0.35891423 ... 0.27242904 0.9353194  0.79237587]\n",
            " [0.88897245 0.06814288 0.67664951 ... 0.18353218 0.49572634 0.24418963]]\n",
            "\n",
            "Number of distinct eigenvalues:  788\n"
          ]
        }
      ]
    }
  ]
}